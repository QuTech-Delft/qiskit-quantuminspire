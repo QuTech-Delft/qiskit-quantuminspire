{
 "cells": [
  {
   "cell_type": "markdown",
   "source": [
    "# Superdense Coding\n",
    "This is a port of https://github.com/QuTech-Delft/quantum-inspire-examples/blob/dev/docs/notebooks_action_needed/superdense_coding/superdense_coding.ipynb\n"
   ],
   "metadata": {
    "collapsed": false
   }
  },
  {
   "cell_type": "code",
   "execution_count": null,
   "outputs": [],
   "source": [
    "from qiskit import QuantumCircuit\n",
    "from qiskit_quantuminspire.qi_provider import QIProvider"
   ],
   "metadata": {
    "collapsed": false,
    "is_executing": true
   }
  },
  {
   "cell_type": "markdown",
   "source": [
    "### Generate the circuit\n",
    "In this section we generate the qiskit circuit"
   ],
   "metadata": {
    "collapsed": false
   }
  },
  {
   "cell_type": "code",
   "execution_count": null,
   "outputs": [],
   "source": [
    "circuit = QuantumCircuit(3, 10)\n",
    "circuit.initialize(1,0,0)\n",
    "circuit.initialize(1,0,1)\n",
    "circuit.measure(0, 0)\n",
    "circuit.measure(1, 1)\n",
    "circuit.ry(1.57079632679, 0)\n",
    "circuit.ry(-1.57079632679, 1)\n",
    "circuit.cz(1,0)\n",
    "\n",
    "## variable gate\n",
    "\n",
    "circuit.cz(1,0)\n",
    "circuit.ry(-1.57079632679, 0)\n",
    "circuit.ry(1.57079632679, 1)\n",
    "\n",
    "\n",
    "circuit.measure(0, 0)\n",
    "circuit.measure(1, 1)\n",
    "\n",
    "\n",
    "for i in range(4):\n",
    "            if i == 0:\n",
    "                gate = 'I'\n",
    "            elif i == 1:\n",
    "                gate = 'X'\n",
    "            elif i == 2:\n",
    "                gate = 'Z'\n",
    "            elif i == 3:\n",
    "                gate = 'Y'\n",
    "\n",
    "            qasm_string += \"\"\"\n",
    "                barrier q[0:4]\n",
    "                prep_z q[{qubitB},{qubitA}]\n",
    "                measure_z q[{qubitB},{qubitA}]\n",
    "                barrier q[0:4]\n",
    "\n",
    "                {{ Y90 q[{qubitA}] | mY90 q[{qubitB}] }}\n",
    "\n",
    "                CZ q[{qubitB}], q[{qubitA}]\n",
    "\n",
    "                barrier q[0:4]\n",
    "\n",
    "                {gate} q[{qubitA}]\n",
    "\n",
    "                barrier q[0:4]\n",
    "\n",
    "                CZ q[{qubitB}], q[{qubitA}]\n",
    "                {{ mY90 q[{qubitA}] | Y90 q[{qubitB}] }}\n",
    "\n",
    "                measure_z q[{qubitB},{qubitA}]\n",
    "                measure_z q[{qubitB},{qubitA}]\n",
    "                measure_z q[{qubitB},{qubitA}]\n",
    "                \"\"\".format(qubitB = qubitB, qubitA = qubitA, gate = gate)\n"
   ],
   "metadata": {
    "collapsed": false
   }
  }
 ],
 "metadata": {
  "kernelspec": {
   "display_name": "Python 3",
   "language": "python",
   "name": "python3"
  },
  "language_info": {
   "codemirror_mode": {
    "name": "ipython",
    "version": 2
   },
   "file_extension": ".py",
   "mimetype": "text/x-python",
   "name": "python",
   "nbconvert_exporter": "python",
   "pygments_lexer": "ipython2",
   "version": "2.7.6"
  }
 },
 "nbformat": 4,
 "nbformat_minor": 0
}
