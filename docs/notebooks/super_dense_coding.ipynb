{
 "cells": [
  {
   "cell_type": "markdown",
   "source": [
    "# Superdense Coding\n",
    "This is a port of https://github.com/QuTech-Delft/quantum-inspire-examples/blob/dev/docs/notebooks_action_needed/superdense_coding/superdense_coding.ipynb\n"
   ],
   "metadata": {
    "collapsed": false
   }
  },
  {
   "cell_type": "code",
   "execution_count": null,
   "outputs": [],
   "source": [
    "from qiskit import QuantumCircuit\n",
    "from qiskit_quantuminspire.qi_provider import QIProvider"
   ],
   "metadata": {
    "collapsed": false,
    "is_executing": true
   }
  },
  {
   "cell_type": "markdown",
   "source": [
    "### Generate the circuit\n",
    "In this section we generate the qiskit circuit"
   ],
   "metadata": {
    "collapsed": false
   }
  },
  {
   "cell_type": "code",
   "execution_count": null,
   "outputs": [],
   "source": [
    "def superdense_encoding_circuit(qubit_a: int =0, qubit_b: int =0) -> QuantumCircuit:\n",
    "    circuit = QuantumCircuit(2, 2)\n",
    "    circuit.initialize([1,0], qubit_a)\n",
    "    circuit.initialize([1,0], qubit_b)\n",
    "    circuit.measure(qubit_a, qubit_a)\n",
    "    circuit.measure(qubit_b, qubit_b)\n",
    "    circuit.ry(1.57079632679, qubit_a)\n",
    "    circuit.ry(-1.57079632679, qubit_b)\n",
    "    circuit.cz(qubit_b,qubit_a)\n",
    "\n",
    "    ## apply variable gate\n",
    "    encode_gate = 2**qubit_a + 2**qubit_b\n",
    "    if encode_gate == 0: # identity I\n",
    "        circuit.id(qubit_a)\n",
    "    elif encode_gate == 1: # X\n",
    "        circuit.x(qubit_a)\n",
    "    elif encode_gate == 2: # Z\n",
    "        circuit.z(qubit_a)\n",
    "    elif encode_gate == 3: # Y\n",
    "        circuit.y(qubit_a)\n",
    "\n",
    "    circuit.cz(qubit_b, qubit_a)\n",
    "    circuit.ry(-1.57079632679, qubit_a)\n",
    "    circuit.ry(1.57079632679, qubit_b)\n",
    "\n",
    "\n",
    "    circuit.measure(qubit_b, qubit_a)  # in qiskit this measures in z basis\n",
    "    circuit.measure(qubit_b, qubit_a)  # in qiskit this measures in z basis\n",
    "    circuit.measure(qubit_b, qubit_a)  # in qiskit this measures in z basis\n",
    "\n",
    "    return circuit\n"
   ],
   "metadata": {
    "collapsed": false
   }
  }
 ],
 "metadata": {
  "kernelspec": {
   "display_name": "Python 3",
   "language": "python",
   "name": "python3"
  },
  "language_info": {
   "codemirror_mode": {
    "name": "ipython",
    "version": 2
   },
   "file_extension": ".py",
   "mimetype": "text/x-python",
   "name": "python",
   "nbconvert_exporter": "python",
   "pygments_lexer": "ipython2",
   "version": "2.7.6"
  }
 },
 "nbformat": 4,
 "nbformat_minor": 0
}
